{
 "metadata": {
  "name": "server"
 }, 
 "nbformat": 2, 
 "worksheets": [
  {
   "cells": [
    {
     "cell_type": "code", 
     "collapsed": true, 
     "input": [
      "import socket", 
      " ", 
      "sock = socket.socket(socket.AF_INET, socket.SOCK_STREAM)  ", 
      "sock.bind(('localhost', 8001))  ", 
      "sock.listen(5)  ", 
      "", 
      "while True:  ", 
      "\tconnection,address = sock.accept() ", 
      " ", 
      "        buf = connection.recv(1024)", 
      "\tprint \"I receive:\", buf ", 
      " ", 
      "        if buf == '1':  ", 
      "        \tconnection.send('welcome to server!')  ", 
      "        else: ", 
      "        \tconnection.send('bye')", 
      "\t\t", 
      "\tconnection.close()", 
      "", 
      "sock.close()  "
     ], 
     "language": "python", 
     "outputs": []
    }
   ]
  }
 ]
}