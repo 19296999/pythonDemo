{
 "metadata": {
  "name": "client"
 }, 
 "nbformat": 2, 
 "worksheets": [
  {
   "cells": [
    {
     "cell_type": "code", 
     "collapsed": false, 
     "input": [
      "import socket", 
      "import time", 
      "", 
      "sock = socket.socket(socket.AF_INET, socket.SOCK_STREAM) ", 
      " ", 
      "sock.connect(('127.0.0.1', 8001))  ", 
      "", 
      "time.sleep(2) ", 
      " ", 
      "sock.send('2')  ", 
      "print sock.recv(1024) ", 
      "", 
      "sock.close()  "
     ], 
     "language": "python", 
     "outputs": [
      {
       "output_type": "stream", 
       "stream": "stdout", 
       "text": [
        "bye"
       ]
      }
     ], 
     "prompt_number": 4
    }, 
    {
     "cell_type": "code", 
     "collapsed": true, 
     "input": [], 
     "language": "python", 
     "outputs": []
    }
   ]
  }
 ]
}