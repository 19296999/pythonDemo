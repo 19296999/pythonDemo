{
 "metadata": {
  "name": "tutorial7 function"
 }, 
 "nbformat": 2, 
 "worksheets": [
  {
   "cells": [
    {
     "cell_type": "code", 
     "collapsed": false, 
     "input": [
      "if 0 == 1: ", 
      "    print 'We are in a world of arithmetic pain' ", 
      "print 'Thank you for playing' "
     ], 
     "language": "python", 
     "outputs": [
      {
       "output_type": "stream", 
       "stream": "stdout", 
       "text": [
        "Thank you for playing"
       ]
      }
     ], 
     "prompt_number": 5
    }, 
    {
     "cell_type": "code", 
     "collapsed": true, 
     "input": [
      "if 0 == 1: ", 
      "    print 'We are in a world of arithmetic pain'", 
      "    print 'Thank you for playing'"
     ], 
     "language": "python", 
     "outputs": [], 
     "prompt_number": 6
    }, 
    {
     "cell_type": "code", 
     "collapsed": true, 
     "input": [
      "fruitPrices = {'apples':2.00, 'oranges': 1.50, 'pears': 1.75}      "
     ], 
     "language": "python", 
     "outputs": [], 
     "prompt_number": 7
    }, 
    {
     "cell_type": "code", 
     "collapsed": true, 
     "input": [
      "def buyFruit(fruit, numPounds):", 
      "    if fruit not in fruitPrices:", 
      "        print \"Sorry we don't have %s\" % (fruit)", 
      "    else:", 
      "        cost = fruitPrices[fruit] * numPounds", 
      "        print \"That'll be %f please\" % (cost)"
     ], 
     "language": "python", 
     "outputs": [], 
     "prompt_number": 8
    }, 
    {
     "cell_type": "code", 
     "collapsed": false, 
     "input": [
      "# Main Function", 
      "if __name__ == '__main__':        ", 
      "    buyFruit('apples',2.4)", 
      "    buyFruit('coconuts',2)  "
     ], 
     "language": "python", 
     "outputs": [
      {
       "output_type": "stream", 
       "stream": "stdout", 
       "text": [
        "That'll be 4.800000 please", 
        "Sorry we don't have coconuts"
       ]
      }
     ], 
     "prompt_number": 9
    }, 
    {
     "cell_type": "code", 
     "collapsed": true, 
     "input": [], 
     "language": "python", 
     "outputs": []
    }
   ]
  }
 ]
}