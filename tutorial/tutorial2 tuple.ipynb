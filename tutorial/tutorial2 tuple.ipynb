{
 "metadata": {
  "name": "tutorial2 tuple"
 }, 
 "nbformat": 2, 
 "worksheets": [
  {
   "cells": [
    {
     "cell_type": "code", 
     "collapsed": true, 
     "input": [
      "pair = (3,5)"
     ], 
     "language": "python", 
     "outputs": [], 
     "prompt_number": 12
    }, 
    {
     "cell_type": "code", 
     "collapsed": false, 
     "input": [
      "pair[0]"
     ], 
     "language": "python", 
     "outputs": [
      {
       "output_type": "pyout", 
       "prompt_number": 13, 
       "text": [
        "3"
       ]
      }
     ], 
     "prompt_number": 13
    }, 
    {
     "cell_type": "code", 
     "collapsed": true, 
     "input": [
      "x,y=pair"
     ], 
     "language": "python", 
     "outputs": [], 
     "prompt_number": 14
    }, 
    {
     "cell_type": "code", 
     "collapsed": false, 
     "input": [
      "x"
     ], 
     "language": "python", 
     "outputs": [
      {
       "output_type": "pyout", 
       "prompt_number": 15, 
       "text": [
        "3"
       ]
      }
     ], 
     "prompt_number": 15
    }, 
    {
     "cell_type": "code", 
     "collapsed": false, 
     "input": [
      "y"
     ], 
     "language": "python", 
     "outputs": [
      {
       "output_type": "pyout", 
       "prompt_number": 16, 
       "text": [
        "5"
       ]
      }
     ], 
     "prompt_number": 16
    }, 
    {
     "cell_type": "code", 
     "collapsed": false, 
     "input": [
      "pair[1]=6"
     ], 
     "language": "python", 
     "outputs": [
      {
       "ename": "TypeError", 
       "evalue": "'tuple' object does not support item assignment", 
       "output_type": "pyerr", 
       "traceback": [
        "\u001b[0;31m---------------------------------------------------------------------------\u001b[0m\n\u001b[0;31mTypeError\u001b[0m                                 Traceback (most recent call last)", 
        "\u001b[0;32m/home/zhu/Qrobot/pythonDemo.git/tutorial/<ipython-input-17-89689ce5cc25>\u001b[0m in \u001b[0;36m<module>\u001b[0;34m()\u001b[0m\n\u001b[0;32m----> 1\u001b[0;31m \u001b[0mpair\u001b[0m\u001b[0;34m[\u001b[0m\u001b[0;36m1\u001b[0m\u001b[0;34m]\u001b[0m\u001b[0;34m=\u001b[0m\u001b[0;36m6\u001b[0m\u001b[0;34m\u001b[0m\u001b[0m\n\u001b[0m", 
        "\u001b[0;31mTypeError\u001b[0m: 'tuple' object does not support item assignment"
       ]
      }
     ], 
     "prompt_number": 17
    }, 
    {
     "cell_type": "code", 
     "collapsed": false, 
     "input": [
      "dir(pair)"
     ], 
     "language": "python", 
     "outputs": [
      {
       "output_type": "pyout", 
       "prompt_number": 18, 
       "text": [
        "['__add__',", 
        " '__class__',", 
        " '__contains__',", 
        " '__delattr__',", 
        " '__doc__',", 
        " '__eq__',", 
        " '__format__',", 
        " '__ge__',", 
        " '__getattribute__',", 
        " '__getitem__',", 
        " '__getnewargs__',", 
        " '__getslice__',", 
        " '__gt__',", 
        " '__hash__',", 
        " '__init__',", 
        " '__iter__',", 
        " '__le__',", 
        " '__len__',", 
        " '__lt__',", 
        " '__mul__',", 
        " '__ne__',", 
        " '__new__',", 
        " '__reduce__',", 
        " '__reduce_ex__',", 
        " '__repr__',", 
        " '__rmul__',", 
        " '__setattr__',", 
        " '__sizeof__',", 
        " '__str__',", 
        " '__subclasshook__',", 
        " 'count',", 
        " 'index']"
       ]
      }
     ], 
     "prompt_number": 18
    }, 
    {
     "cell_type": "code", 
     "collapsed": false, 
     "input": [
      "pair.index(5)"
     ], 
     "language": "python", 
     "outputs": [
      {
       "output_type": "pyout", 
       "prompt_number": 19, 
       "text": [
        "1"
       ]
      }
     ], 
     "prompt_number": 19
    }, 
    {
     "cell_type": "code", 
     "collapsed": false, 
     "input": [
      "help(tuple)"
     ], 
     "language": "python", 
     "outputs": [
      {
       "output_type": "stream", 
       "stream": "stdout", 
       "text": [
        "Help on class tuple in module __builtin__:", 
        "", 
        "class tuple(object)", 
        " |  tuple() -> empty tuple", 
        " |  tuple(iterable) -> tuple initialized from iterable's items", 
        " |  ", 
        " |  If the argument is a tuple, the return value is the same object.", 
        " |  ", 
        " |  Methods defined here:", 
        " |  ", 
        " |  __add__(...)", 
        " |      x.__add__(y) <==> x+y", 
        " |  ", 
        " |  __contains__(...)", 
        " |      x.__contains__(y) <==> y in x", 
        " |  ", 
        " |  __eq__(...)", 
        " |      x.__eq__(y) <==> x==y", 
        " |  ", 
        " |  __ge__(...)", 
        " |      x.__ge__(y) <==> x>=y", 
        " |  ", 
        " |  __getattribute__(...)", 
        " |      x.__getattribute__('name') <==> x.name", 
        " |  ", 
        " |  __getitem__(...)", 
        " |      x.__getitem__(y) <==> x[y]", 
        " |  ", 
        " |  __getnewargs__(...)", 
        " |  ", 
        " |  __getslice__(...)", 
        " |      x.__getslice__(i, j) <==> x[i:j]", 
        " |      ", 
        " |      Use of negative indices is not supported.", 
        " |  ", 
        " |  __gt__(...)", 
        " |      x.__gt__(y) <==> x>y", 
        " |  ", 
        " |  __hash__(...)", 
        " |      x.__hash__() <==> hash(x)", 
        " |  ", 
        " |  __iter__(...)", 
        " |      x.__iter__() <==> iter(x)", 
        " |  ", 
        " |  __le__(...)", 
        " |      x.__le__(y) <==> x<=y", 
        " |  ", 
        " |  __len__(...)", 
        " |      x.__len__() <==> len(x)", 
        " |  ", 
        " |  __lt__(...)", 
        " |      x.__lt__(y) <==> x<y", 
        " |  ", 
        " |  __mul__(...)", 
        " |      x.__mul__(n) <==> x*n", 
        " |  ", 
        " |  __ne__(...)", 
        " |      x.__ne__(y) <==> x!=y", 
        " |  ", 
        " |  __repr__(...)", 
        " |      x.__repr__() <==> repr(x)", 
        " |  ", 
        " |  __rmul__(...)", 
        " |      x.__rmul__(n) <==> n*x", 
        " |  ", 
        " |  __sizeof__(...)", 
        " |      T.__sizeof__() -- size of T in memory, in bytes", 
        " |  ", 
        " |  count(...)", 
        " |      T.count(value) -> integer -- return number of occurrences of value", 
        " |  ", 
        " |  index(...)", 
        " |      T.index(value, [start, [stop]]) -> integer -- return first index of value.", 
        " |      Raises ValueError if the value is not present.", 
        " |  ", 
        " |  ----------------------------------------------------------------------", 
        " |  Data and other attributes defined here:", 
        " |  ", 
        " |  __new__ = <built-in method __new__ of type object>", 
        " |      T.__new__(S, ...) -> a new object with type S, a subtype of T", 
        ""
       ]
      }
     ], 
     "prompt_number": 22
    }, 
    {
     "cell_type": "code", 
     "collapsed": false, 
     "input": [
      "lst=[1,2]", 
      "a=tuple(lst)"
     ], 
     "language": "python", 
     "outputs": [], 
     "prompt_number": 29
    }, 
    {
     "cell_type": "code", 
     "collapsed": false, 
     "input": [
      "a"
     ], 
     "language": "python", 
     "outputs": [
      {
       "output_type": "pyout", 
       "prompt_number": 30, 
       "text": [
        "(1, 2)"
       ]
      }
     ], 
     "prompt_number": 30
    }, 
    {
     "cell_type": "code", 
     "collapsed": true, 
     "input": [], 
     "language": "python", 
     "outputs": []
    }
   ]
  }
 ]
}