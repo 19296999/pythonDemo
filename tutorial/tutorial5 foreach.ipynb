{
 "metadata": {
  "name": "tutorial5 foreach"
 }, 
 "nbformat": 2, 
 "worksheets": [
  {
   "cells": [
    {
     "cell_type": "code", 
     "collapsed": false, 
     "input": [
      "fruits = ['apples','oranges','pears','bananas']", 
      "for fruit in fruits:", 
      "    print fruit + ' for sale'"
     ], 
     "language": "python", 
     "outputs": [
      {
       "output_type": "stream", 
       "stream": "stdout", 
       "text": [
        "apples for sale", 
        "oranges for sale", 
        "pears for sale", 
        "bananas for sale"
       ]
      }
     ], 
     "prompt_number": 1
    }, 
    {
     "cell_type": "code", 
     "collapsed": false, 
     "input": [
      "fruitPrices = {'apples':2.00, 'oranges': 1.50, 'pears': 1.75}", 
      "for fruit, price in fruitPrices.items():", 
      "    print '%s cost %f a pound' % (fruit, price)"
     ], 
     "language": "python", 
     "outputs": [
      {
       "output_type": "stream", 
       "stream": "stdout", 
       "text": [
        "pears cost 1.750000 a pound", 
        "apples cost 2.000000 a pound", 
        "oranges cost 1.500000 a pound"
       ]
      }
     ], 
     "prompt_number": 4
    }, 
    {
     "cell_type": "code", 
     "collapsed": true, 
     "input": [], 
     "language": "python", 
     "outputs": []
    }
   ]
  }
 ]
}