{
 "metadata": {
  "name": "tutorial0 basetype"
 }, 
 "nbformat": 2, 
 "worksheets": [
  {
   "cells": [
    {
     "cell_type": "code", 
     "collapsed": false, 
     "input": [
      "1"
     ], 
     "language": "python", 
     "outputs": [
      {
       "output_type": "pyout", 
       "prompt_number": 2, 
       "text": [
        "1"
       ]
      }
     ], 
     "prompt_number": 2
    }, 
    {
     "cell_type": "code", 
     "collapsed": false, 
     "input": [
      "2*3"
     ], 
     "language": "python", 
     "outputs": [
      {
       "output_type": "pyout", 
       "prompt_number": 3, 
       "text": [
        "6"
       ]
      }
     ], 
     "prompt_number": 3
    }, 
    {
     "cell_type": "code", 
     "collapsed": false, 
     "input": [
      "1==0"
     ], 
     "language": "python", 
     "outputs": [
      {
       "output_type": "pyout", 
       "prompt_number": 4, 
       "text": [
        "False"
       ]
      }
     ], 
     "prompt_number": 4
    }, 
    {
     "cell_type": "code", 
     "collapsed": false, 
     "input": [
      "not 1==0"
     ], 
     "language": "python", 
     "outputs": [
      {
       "output_type": "pyout", 
       "prompt_number": 6, 
       "text": [
        "True"
       ]
      }
     ], 
     "prompt_number": 6
    }, 
    {
     "cell_type": "code", 
     "collapsed": false, 
     "input": [
      "(2==2) and (2==3)"
     ], 
     "language": "python", 
     "outputs": [
      {
       "output_type": "pyout", 
       "prompt_number": 12, 
       "text": [
        "False"
       ]
      }
     ], 
     "prompt_number": 12
    }, 
    {
     "cell_type": "code", 
     "collapsed": false, 
     "input": [
      "(2==2) or (2==3)"
     ], 
     "language": "python", 
     "outputs": [
      {
       "output_type": "pyout", 
       "prompt_number": 14, 
       "text": [
        "True"
       ]
      }
     ], 
     "prompt_number": 14
    }, 
    {
     "cell_type": "code", 
     "collapsed": false, 
     "input": [
      "'artificial' + \"intelligence\""
     ], 
     "language": "python", 
     "outputs": [
      {
       "output_type": "pyout", 
       "prompt_number": 15, 
       "text": [
        "'artificialintelligence'"
       ]
      }
     ], 
     "prompt_number": 15
    }, 
    {
     "cell_type": "code", 
     "collapsed": false, 
     "input": [
      "'artificial'.upper()"
     ], 
     "language": "python", 
     "outputs": [
      {
       "output_type": "pyout", 
       "prompt_number": 16, 
       "text": [
        "'ARTIFICIAL'"
       ]
      }
     ], 
     "prompt_number": 16
    }, 
    {
     "cell_type": "code", 
     "collapsed": false, 
     "input": [
      "'HELP'.lower()"
     ], 
     "language": "python", 
     "outputs": [
      {
       "output_type": "pyout", 
       "prompt_number": 17, 
       "text": [
        "'help'"
       ]
      }
     ], 
     "prompt_number": 17
    }, 
    {
     "cell_type": "code", 
     "collapsed": false, 
     "input": [
      "len('Help')"
     ], 
     "language": "python", 
     "outputs": [
      {
       "output_type": "pyout", 
       "prompt_number": 18, 
       "text": [
        "4"
       ]
      }
     ], 
     "prompt_number": 18
    }, 
    {
     "cell_type": "code", 
     "collapsed": false, 
     "input": [
      "s = 'hello world' ", 
      "print s"
     ], 
     "language": "python", 
     "outputs": [
      {
       "output_type": "stream", 
       "stream": "stdout", 
       "text": [
        "hello world"
       ]
      }
     ], 
     "prompt_number": 19
    }, 
    {
     "cell_type": "code", 
     "collapsed": false, 
     "input": [
      "s.upper()"
     ], 
     "language": "python", 
     "outputs": [
      {
       "output_type": "pyout", 
       "prompt_number": 20, 
       "text": [
        "'HELLO WORLD'"
       ]
      }
     ], 
     "prompt_number": 20
    }, 
    {
     "cell_type": "code", 
     "collapsed": false, 
     "input": [
      "len(s.upper())"
     ], 
     "language": "python", 
     "outputs": [
      {
       "output_type": "pyout", 
       "prompt_number": 21, 
       "text": [
        "11"
       ]
      }
     ], 
     "prompt_number": 21
    }, 
    {
     "cell_type": "code", 
     "collapsed": false, 
     "input": [
      "num = 8.0", 
      "num += 2.5", 
      "print num"
     ], 
     "language": "python", 
     "outputs": [
      {
       "output_type": "stream", 
       "stream": "stdout", 
       "text": [
        "10.5"
       ]
      }
     ], 
     "prompt_number": 23
    }, 
    {
     "cell_type": "code", 
     "collapsed": true, 
     "input": [
      "s='abc'"
     ], 
     "language": "python", 
     "outputs": [], 
     "prompt_number": 27
    }, 
    {
     "cell_type": "code", 
     "collapsed": false, 
     "input": [
      "dir(s)"
     ], 
     "language": "python", 
     "outputs": [
      {
       "output_type": "pyout", 
       "prompt_number": 28, 
       "text": [
        "['__add__',", 
        " '__class__',", 
        " '__contains__',", 
        " '__delattr__',", 
        " '__doc__',", 
        " '__eq__',", 
        " '__format__',", 
        " '__ge__',", 
        " '__getattribute__',", 
        " '__getitem__',", 
        " '__getnewargs__',", 
        " '__getslice__',", 
        " '__gt__',", 
        " '__hash__',", 
        " '__init__',", 
        " '__le__',", 
        " '__len__',", 
        " '__lt__',", 
        " '__mod__',", 
        " '__mul__',", 
        " '__ne__',", 
        " '__new__',", 
        " '__reduce__',", 
        " '__reduce_ex__',", 
        " '__repr__',", 
        " '__rmod__',", 
        " '__rmul__',", 
        " '__setattr__',", 
        " '__sizeof__',", 
        " '__str__',", 
        " '__subclasshook__',", 
        " '_formatter_field_name_split',", 
        " '_formatter_parser',", 
        " 'capitalize',", 
        " 'center',", 
        " 'count',", 
        " 'decode',", 
        " 'encode',", 
        " 'endswith',", 
        " 'expandtabs',", 
        " 'find',", 
        " 'format',", 
        " 'index',", 
        " 'isalnum',", 
        " 'isalpha',", 
        " 'isdigit',", 
        " 'islower',", 
        " 'isspace',", 
        " 'istitle',", 
        " 'isupper',", 
        " 'join',", 
        " 'ljust',", 
        " 'lower',", 
        " 'lstrip',", 
        " 'partition',", 
        " 'replace',", 
        " 'rfind',", 
        " 'rindex',", 
        " 'rjust',", 
        " 'rpartition',", 
        " 'rsplit',", 
        " 'rstrip',", 
        " 'split',", 
        " 'splitlines',", 
        " 'startswith',", 
        " 'strip',", 
        " 'swapcase',", 
        " 'title',", 
        " 'translate',", 
        " 'upper',", 
        " 'zfill']"
       ]
      }
     ], 
     "prompt_number": 28
    }, 
    {
     "cell_type": "code", 
     "collapsed": false, 
     "input": [
      "help(s.find)"
     ], 
     "language": "python", 
     "outputs": [
      {
       "output_type": "stream", 
       "stream": "stdout", 
       "text": [
        "Help on built-in function find:", 
        "", 
        "find(...)", 
        "    S.find(sub [,start [,end]]) -> int", 
        "    ", 
        "    Return the lowest index in S where substring sub is found,", 
        "    such that sub is contained within S[start:end].  Optional", 
        "    arguments start and end are interpreted as in slice notation.", 
        "    ", 
        "    Return -1 on failure."
       ]
      }
     ], 
     "prompt_number": 26
    }, 
    {
     "cell_type": "code", 
     "collapsed": false, 
     "input": [
      "s.find('b')"
     ], 
     "language": "python", 
     "outputs": [
      {
       "output_type": "pyout", 
       "prompt_number": 30, 
       "text": [
        "1"
       ]
      }
     ], 
     "prompt_number": 30
    }, 
    {
     "cell_type": "code", 
     "collapsed": true, 
     "input": [], 
     "language": "python", 
     "outputs": []
    }
   ]
  }
 ]
}