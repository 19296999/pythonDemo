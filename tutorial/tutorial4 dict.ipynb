{
 "metadata": {
  "name": "tutorial4 dict"
 }, 
 "nbformat": 2, 
 "worksheets": [
  {
   "cells": [
    {
     "cell_type": "code", 
     "collapsed": true, 
     "input": [
      "studentIds = {'knuth': 42.0, 'turing': 56.0, 'nash': 92.0 }"
     ], 
     "language": "python", 
     "outputs": [], 
     "prompt_number": 1
    }, 
    {
     "cell_type": "code", 
     "collapsed": false, 
     "input": [
      "studentIds['turing']"
     ], 
     "language": "python", 
     "outputs": [
      {
       "output_type": "pyout", 
       "prompt_number": 2, 
       "text": [
        "56.0"
       ]
      }
     ], 
     "prompt_number": 2
    }, 
    {
     "cell_type": "code", 
     "collapsed": true, 
     "input": [
      "studentIds['nash'] = 'ninety-two'"
     ], 
     "language": "python", 
     "outputs": [], 
     "prompt_number": 3
    }, 
    {
     "cell_type": "code", 
     "collapsed": false, 
     "input": [
      "studentIds"
     ], 
     "language": "python", 
     "outputs": [
      {
       "output_type": "pyout", 
       "prompt_number": 4, 
       "text": [
        "{'knuth': 42.0, 'nash': 'ninety-two', 'turing': 56.0}"
       ]
      }
     ], 
     "prompt_number": 4
    }, 
    {
     "cell_type": "code", 
     "collapsed": true, 
     "input": [
      "del studentIds['knuth']"
     ], 
     "language": "python", 
     "outputs": [], 
     "prompt_number": 5
    }, 
    {
     "cell_type": "code", 
     "collapsed": false, 
     "input": [
      "studentIds"
     ], 
     "language": "python", 
     "outputs": [
      {
       "output_type": "pyout", 
       "prompt_number": 6, 
       "text": [
        "{'nash': 'ninety-two', 'turing': 56.0}"
       ]
      }
     ], 
     "prompt_number": 6
    }, 
    {
     "cell_type": "code", 
     "collapsed": true, 
     "input": [
      "studentIds['knuth'] = [42.0,'forty-two']"
     ], 
     "language": "python", 
     "outputs": [], 
     "prompt_number": 7
    }, 
    {
     "cell_type": "code", 
     "collapsed": false, 
     "input": [
      "studentIds"
     ], 
     "language": "python", 
     "outputs": [
      {
       "output_type": "pyout", 
       "prompt_number": 8, 
       "text": [
        "{'knuth': [42.0, 'forty-two'], 'nash': 'ninety-two', 'turing': 56.0}"
       ]
      }
     ], 
     "prompt_number": 8
    }, 
    {
     "cell_type": "code", 
     "collapsed": false, 
     "input": [
      "studentIds.keys()"
     ], 
     "language": "python", 
     "outputs": [
      {
       "output_type": "pyout", 
       "prompt_number": 9, 
       "text": [
        "['knuth', 'nash', 'turing']"
       ]
      }
     ], 
     "prompt_number": 9
    }, 
    {
     "cell_type": "code", 
     "collapsed": false, 
     "input": [
      "studentIds.values()"
     ], 
     "language": "python", 
     "outputs": [
      {
       "output_type": "pyout", 
       "prompt_number": 10, 
       "text": [
        "[[42.0, 'forty-two'], 'ninety-two', 56.0]"
       ]
      }
     ], 
     "prompt_number": 10
    }, 
    {
     "cell_type": "code", 
     "collapsed": false, 
     "input": [
      "studentIds.items()"
     ], 
     "language": "python", 
     "outputs": [
      {
       "output_type": "pyout", 
       "prompt_number": 11, 
       "text": [
        "[('knuth', [42.0, 'forty-two']), ('nash', 'ninety-two'), ('turing', 56.0)]"
       ]
      }
     ], 
     "prompt_number": 11
    }, 
    {
     "cell_type": "code", 
     "collapsed": false, 
     "input": [
      "help(dict.items)"
     ], 
     "language": "python", 
     "outputs": [
      {
       "output_type": "stream", 
       "stream": "stdout", 
       "text": [
        "Help on method_descriptor:", 
        "", 
        "items(...)", 
        "    D.items() -> list of D's (key, value) pairs, as 2-tuples", 
        ""
       ]
      }
     ], 
     "prompt_number": 14
    }, 
    {
     "cell_type": "code", 
     "collapsed": false, 
     "input": [
      "dir(dict)"
     ], 
     "language": "python", 
     "outputs": [
      {
       "output_type": "pyout", 
       "prompt_number": 16, 
       "text": [
        "['__class__',", 
        " '__cmp__',", 
        " '__contains__',", 
        " '__delattr__',", 
        " '__delitem__',", 
        " '__doc__',", 
        " '__eq__',", 
        " '__format__',", 
        " '__ge__',", 
        " '__getattribute__',", 
        " '__getitem__',", 
        " '__gt__',", 
        " '__hash__',", 
        " '__init__',", 
        " '__iter__',", 
        " '__le__',", 
        " '__len__',", 
        " '__lt__',", 
        " '__ne__',", 
        " '__new__',", 
        " '__reduce__',", 
        " '__reduce_ex__',", 
        " '__repr__',", 
        " '__setattr__',", 
        " '__setitem__',", 
        " '__sizeof__',", 
        " '__str__',", 
        " '__subclasshook__',", 
        " 'clear',", 
        " 'copy',", 
        " 'fromkeys',", 
        " 'get',", 
        " 'has_key',", 
        " 'items',", 
        " 'iteritems',", 
        " 'iterkeys',", 
        " 'itervalues',", 
        " 'keys',", 
        " 'pop',", 
        " 'popitem',", 
        " 'setdefault',", 
        " 'update',", 
        " 'values',", 
        " 'viewitems',", 
        " 'viewkeys',", 
        " 'viewvalues']"
       ]
      }
     ], 
     "prompt_number": 16
    }, 
    {
     "cell_type": "code", 
     "collapsed": true, 
     "input": [], 
     "language": "python", 
     "outputs": []
    }
   ]
  }
 ]
}