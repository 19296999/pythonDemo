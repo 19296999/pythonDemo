{
 "metadata": {
  "name": "server"
 }, 
 "nbformat": 2, 
 "worksheets": [
  {
   "cells": [
    {
     "cell_type": "code", 
     "collapsed": false, 
     "input": [
      "#", 
      "#   Hello World server in Python", 
      "#   Binds REP socket to tcp://*:5555", 
      "#   \u54cd\u5e94\u5ba2\u6237\u7aef\u7684\u8bf7\u6c42", 
      "#", 
      "import zmq", 
      "import time", 
      "", 
      "context = zmq.Context()", 
      "socket = context.socket(zmq.REP)", 
      "socket.bind(\"tcp://*:5555\")", 
      "", 
      "while True:", 
      "    #  Wait for next request from client", 
      "    buf = socket.recv()", 
      "    print \"I receive:\", buf ", 
      " ", 
      "    if buf == '1':  ", 
      "       \tsocket.send('welcome to server!')  ", 
      "    else: ", 
      "        socket.send('bye')"
     ], 
     "language": "python", 
     "outputs": [
      {
       "output_type": "stream", 
       "stream": "stdout", 
       "text": [
        "I receive: 0", 
        "I receive: 1", 
        "I receive: 2", 
        "I receive: 3", 
        "I receive: 4", 
        "I receive: 5", 
        "I receive: 6", 
        "I receive: 7", 
        "I receive: 8", 
        "I receive: 9", 
        "I receive:"
       ]
      }
     ], 
     "prompt_number": "*"
    }, 
    {
     "cell_type": "code", 
     "collapsed": true, 
     "input": [], 
     "language": "python", 
     "outputs": []
    }
   ]
  }
 ]
}