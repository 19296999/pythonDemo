{
 "metadata": {
  "name": "server"
 }, 
 "nbformat": 2, 
 "worksheets": [
  {
   "cells": [
    {
     "cell_type": "code", 
     "collapsed": true, 
     "input": [
      "#", 
      "#   Hello World server in Python", 
      "#   Binds REP socket to tcp://*:5555", 
      "#   Expects \"Hello\" from client, replies with \"World\"", 
      "#", 
      "import zmq", 
      "import time", 
      "", 
      "context = zmq.Context()", 
      "socket = context.socket(zmq.REP)", 
      "socket.bind(\"tcp://*:5555\")", 
      "", 
      "while True:", 
      "    #  Wait for next request from client", 
      "    buf = socket.recv()", 
      "    print \"I receive:\", buf ", 
      " ", 
      "    if buf == '1':  ", 
      "       \tsocket.send('welcome to server!')  ", 
      "    else: ", 
      "        socket.send('bye')"
     ], 
     "language": "python", 
     "outputs": []
    }
   ]
  }
 ]
}