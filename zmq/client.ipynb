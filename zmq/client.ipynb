{
 "metadata": {
  "name": "client"
 }, 
 "nbformat": 2, 
 "worksheets": [
  {
   "cells": [
    {
     "cell_type": "code", 
     "collapsed": false, 
     "input": [
      "#", 
      "#   Hello World client in Python", 
      "#   Connects REQ socket to tcp://localhost:5555", 
      "#   \u53d1\u9001\u5341\u6b21\u8bf7\u6c42\u5230\u670d\u52a1\u5668", 
      "#", 
      "import zmq", 
      "", 
      "context = zmq.Context()", 
      "", 
      "#  Socket to talk to server", 
      "print \"Connecting to hello world server...\"", 
      "socket = context.socket(zmq.REQ)", 
      "socket.connect (\"tcp://localhost:5555\")", 
      "", 
      "#  Do 10 requests, waiting each time for a response", 
      "for i in range (0,10):", 
      "    print \"Sending request \", i,\"...\"", 
      "    socket.send (str(i))", 
      "    ", 
      "    #  Get the reply.", 
      "    message = socket.recv()", 
      "    print \"Received reply \", i, \"[\", message, \"]\""
     ], 
     "language": "python", 
     "outputs": [
      {
       "output_type": "stream", 
       "stream": "stdout", 
       "text": [
        "Connecting to hello world server...", 
        "Sending request  0 ...", 
        "Received reply  0 [ bye ]", 
        "Sending request  1 ...", 
        "Received reply  1 [ welcome to server! ]", 
        "Sending request  2 ...", 
        "Received reply  2 [ bye ]", 
        "Sending request  3 ...", 
        "Received reply  3 [ bye ]", 
        "Sending request  4 ...", 
        "Received reply  4 [ bye ]", 
        "Sending request  5 ...", 
        "Received reply  5 [ bye ]", 
        "Sending request  6 ...", 
        "Received reply  6 [ bye ]", 
        "Sending request  7 ...", 
        "Received reply  7 [ bye ]", 
        "Sending request  8 ...", 
        "Received reply  8 [ bye ]", 
        "Sending request  9 ...", 
        "Received reply  9 [ bye ]"
       ]
      }
     ], 
     "prompt_number": 4
    }, 
    {
     "cell_type": "code", 
     "collapsed": true, 
     "input": [], 
     "language": "python", 
     "outputs": [], 
     "prompt_number": 3
    }, 
    {
     "cell_type": "code", 
     "collapsed": true, 
     "input": [], 
     "language": "python", 
     "outputs": []
    }
   ]
  }
 ]
}